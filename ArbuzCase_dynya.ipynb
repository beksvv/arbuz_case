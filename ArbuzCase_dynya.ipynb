{
 "cells": [
  {
   "cell_type": "code",
   "execution_count": 22,
   "id": "a69baa13",
   "metadata": {},
   "outputs": [],
   "source": [
    "import pandas as pd\n",
    "import numpy as np\n",
    "import matplotlib.pyplot as plt\n",
    "import seaborn as sns\n",
    "from sklearn.model_selection import train_test_split\n",
    "from sklearn.linear_model import LinearRegression"
   ]
  },
  {
   "cell_type": "code",
   "execution_count": 4,
   "id": "1cc8e064",
   "metadata": {},
   "outputs": [],
   "source": [
    "test = pd.read_csv('ArbuzTest.csv')\n",
    "train = pd.read_csv('ArbuzTrain.csv')"
   ]
  },
  {
   "cell_type": "code",
   "execution_count": 5,
   "id": "eda4fc5c",
   "metadata": {},
   "outputs": [
    {
     "data": {
      "text/html": [
       "<div>\n",
       "<style scoped>\n",
       "    .dataframe tbody tr th:only-of-type {\n",
       "        vertical-align: middle;\n",
       "    }\n",
       "\n",
       "    .dataframe tbody tr th {\n",
       "        vertical-align: top;\n",
       "    }\n",
       "\n",
       "    .dataframe thead th {\n",
       "        text-align: right;\n",
       "    }\n",
       "</style>\n",
       "<table border=\"1\" class=\"dataframe\">\n",
       "  <thead>\n",
       "    <tr style=\"text-align: right;\">\n",
       "      <th></th>\n",
       "      <th>client_id</th>\n",
       "      <th>average_check</th>\n",
       "      <th>number_orders</th>\n",
       "      <th>average_score</th>\n",
       "      <th>items_per_order</th>\n",
       "      <th>is_friend</th>\n",
       "      <th>last_check</th>\n",
       "      <th>last_score</th>\n",
       "      <th>last_scored_after_order_days</th>\n",
       "      <th>last_late_by_minutes</th>\n",
       "      <th>...</th>\n",
       "      <th>items_share_category_19</th>\n",
       "      <th>items_share_category_20</th>\n",
       "      <th>items_share_category_21</th>\n",
       "      <th>items_share_category_22</th>\n",
       "      <th>items_share_category_23</th>\n",
       "      <th>items_share_category_24</th>\n",
       "      <th>items_share_category_25</th>\n",
       "      <th>items_share_category_26</th>\n",
       "      <th>items_share_category_27</th>\n",
       "      <th>is_churn</th>\n",
       "    </tr>\n",
       "  </thead>\n",
       "  <tbody>\n",
       "    <tr>\n",
       "      <th>0</th>\n",
       "      <td>301</td>\n",
       "      <td>49300</td>\n",
       "      <td>7</td>\n",
       "      <td>10.0</td>\n",
       "      <td>23.4286</td>\n",
       "      <td>0</td>\n",
       "      <td>9250.0</td>\n",
       "      <td>NaN</td>\n",
       "      <td>NaN</td>\n",
       "      <td>0</td>\n",
       "      <td>...</td>\n",
       "      <td>0.0</td>\n",
       "      <td>0.0</td>\n",
       "      <td>0.01</td>\n",
       "      <td>0.0</td>\n",
       "      <td>0.00</td>\n",
       "      <td>0.00</td>\n",
       "      <td>0.01</td>\n",
       "      <td>0.0</td>\n",
       "      <td>0.00</td>\n",
       "      <td>0</td>\n",
       "    </tr>\n",
       "    <tr>\n",
       "      <th>1</th>\n",
       "      <td>9394</td>\n",
       "      <td>58900</td>\n",
       "      <td>7</td>\n",
       "      <td>10.0</td>\n",
       "      <td>5.4286</td>\n",
       "      <td>0</td>\n",
       "      <td>24547.0</td>\n",
       "      <td>NaN</td>\n",
       "      <td>NaN</td>\n",
       "      <td>0</td>\n",
       "      <td>...</td>\n",
       "      <td>0.0</td>\n",
       "      <td>0.0</td>\n",
       "      <td>0.00</td>\n",
       "      <td>0.0</td>\n",
       "      <td>0.00</td>\n",
       "      <td>0.03</td>\n",
       "      <td>0.00</td>\n",
       "      <td>0.0</td>\n",
       "      <td>0.00</td>\n",
       "      <td>0</td>\n",
       "    </tr>\n",
       "    <tr>\n",
       "      <th>2</th>\n",
       "      <td>6680</td>\n",
       "      <td>43100</td>\n",
       "      <td>6</td>\n",
       "      <td>10.0</td>\n",
       "      <td>15.3333</td>\n",
       "      <td>0</td>\n",
       "      <td>6017.0</td>\n",
       "      <td>NaN</td>\n",
       "      <td>NaN</td>\n",
       "      <td>0</td>\n",
       "      <td>...</td>\n",
       "      <td>0.0</td>\n",
       "      <td>0.0</td>\n",
       "      <td>0.00</td>\n",
       "      <td>0.0</td>\n",
       "      <td>0.00</td>\n",
       "      <td>0.22</td>\n",
       "      <td>0.00</td>\n",
       "      <td>0.0</td>\n",
       "      <td>0.02</td>\n",
       "      <td>0</td>\n",
       "    </tr>\n",
       "    <tr>\n",
       "      <th>3</th>\n",
       "      <td>4774</td>\n",
       "      <td>33900</td>\n",
       "      <td>8</td>\n",
       "      <td>4.0</td>\n",
       "      <td>9.6250</td>\n",
       "      <td>0</td>\n",
       "      <td>7316.0</td>\n",
       "      <td>NaN</td>\n",
       "      <td>NaN</td>\n",
       "      <td>0</td>\n",
       "      <td>...</td>\n",
       "      <td>0.0</td>\n",
       "      <td>0.0</td>\n",
       "      <td>0.01</td>\n",
       "      <td>0.0</td>\n",
       "      <td>0.06</td>\n",
       "      <td>0.35</td>\n",
       "      <td>0.00</td>\n",
       "      <td>0.0</td>\n",
       "      <td>0.17</td>\n",
       "      <td>0</td>\n",
       "    </tr>\n",
       "    <tr>\n",
       "      <th>4</th>\n",
       "      <td>2722</td>\n",
       "      <td>37900</td>\n",
       "      <td>9</td>\n",
       "      <td>10.0</td>\n",
       "      <td>14.2222</td>\n",
       "      <td>0</td>\n",
       "      <td>2175.0</td>\n",
       "      <td>10.0</td>\n",
       "      <td>0.0</td>\n",
       "      <td>0</td>\n",
       "      <td>...</td>\n",
       "      <td>0.0</td>\n",
       "      <td>0.0</td>\n",
       "      <td>0.00</td>\n",
       "      <td>0.0</td>\n",
       "      <td>0.04</td>\n",
       "      <td>0.22</td>\n",
       "      <td>0.00</td>\n",
       "      <td>0.0</td>\n",
       "      <td>0.01</td>\n",
       "      <td>0</td>\n",
       "    </tr>\n",
       "  </tbody>\n",
       "</table>\n",
       "<p>5 rows × 39 columns</p>\n",
       "</div>"
      ],
      "text/plain": [
       "   client_id  average_check  number_orders  average_score  items_per_order  \\\n",
       "0        301          49300              7           10.0          23.4286   \n",
       "1       9394          58900              7           10.0           5.4286   \n",
       "2       6680          43100              6           10.0          15.3333   \n",
       "3       4774          33900              8            4.0           9.6250   \n",
       "4       2722          37900              9           10.0          14.2222   \n",
       "\n",
       "   is_friend  last_check  last_score  last_scored_after_order_days  \\\n",
       "0          0      9250.0         NaN                           NaN   \n",
       "1          0     24547.0         NaN                           NaN   \n",
       "2          0      6017.0         NaN                           NaN   \n",
       "3          0      7316.0         NaN                           NaN   \n",
       "4          0      2175.0        10.0                           0.0   \n",
       "\n",
       "   last_late_by_minutes  ...  items_share_category_19  \\\n",
       "0                     0  ...                      0.0   \n",
       "1                     0  ...                      0.0   \n",
       "2                     0  ...                      0.0   \n",
       "3                     0  ...                      0.0   \n",
       "4                     0  ...                      0.0   \n",
       "\n",
       "   items_share_category_20  items_share_category_21  items_share_category_22  \\\n",
       "0                      0.0                     0.01                      0.0   \n",
       "1                      0.0                     0.00                      0.0   \n",
       "2                      0.0                     0.00                      0.0   \n",
       "3                      0.0                     0.01                      0.0   \n",
       "4                      0.0                     0.00                      0.0   \n",
       "\n",
       "   items_share_category_23  items_share_category_24  items_share_category_25  \\\n",
       "0                     0.00                     0.00                     0.01   \n",
       "1                     0.00                     0.03                     0.00   \n",
       "2                     0.00                     0.22                     0.00   \n",
       "3                     0.06                     0.35                     0.00   \n",
       "4                     0.04                     0.22                     0.00   \n",
       "\n",
       "   items_share_category_26  items_share_category_27  is_churn  \n",
       "0                      0.0                     0.00         0  \n",
       "1                      0.0                     0.00         0  \n",
       "2                      0.0                     0.02         0  \n",
       "3                      0.0                     0.17         0  \n",
       "4                      0.0                     0.01         0  \n",
       "\n",
       "[5 rows x 39 columns]"
      ]
     },
     "execution_count": 5,
     "metadata": {},
     "output_type": "execute_result"
    }
   ],
   "source": [
    "train.head()"
   ]
  },
  {
   "cell_type": "code",
   "execution_count": 6,
   "id": "61ebf819",
   "metadata": {
    "scrolled": true
   },
   "outputs": [
    {
     "name": "stdout",
     "output_type": "stream",
     "text": [
      "<class 'pandas.core.frame.DataFrame'>\n",
      "RangeIndex: 10984 entries, 0 to 10983\n",
      "Data columns (total 39 columns):\n",
      " #   Column                        Non-Null Count  Dtype  \n",
      "---  ------                        --------------  -----  \n",
      " 0   client_id                     10984 non-null  int64  \n",
      " 1   average_check                 10984 non-null  int64  \n",
      " 2   number_orders                 10984 non-null  int64  \n",
      " 3   average_score                 9187 non-null   float64\n",
      " 4   items_per_order               10984 non-null  float64\n",
      " 5   is_friend                     10984 non-null  int64  \n",
      " 6   last_check                    10979 non-null  float64\n",
      " 7   last_score                    3788 non-null   float64\n",
      " 8   last_scored_after_order_days  3788 non-null   float64\n",
      " 9   last_late_by_minutes          10984 non-null  int64  \n",
      " 10  is_last_order_fullfilled      10984 non-null  int64  \n",
      " 11  items_share_category_1        10984 non-null  float64\n",
      " 12  items_share_category_2        10984 non-null  float64\n",
      " 13  items_share_category_3        10984 non-null  float64\n",
      " 14  items_share_category_4        10984 non-null  float64\n",
      " 15  items_share_category_5        10984 non-null  float64\n",
      " 16  items_share_category_6        10984 non-null  float64\n",
      " 17  items_share_category_7        10984 non-null  float64\n",
      " 18  items_share_category_8        10984 non-null  float64\n",
      " 19  items_share_category_9        10984 non-null  float64\n",
      " 20  items_share_category_10       10984 non-null  float64\n",
      " 21  items_share_category_11       10984 non-null  float64\n",
      " 22  items_share_category_12       10984 non-null  float64\n",
      " 23  items_share_category_13       10984 non-null  float64\n",
      " 24  items_share_category_14       10984 non-null  float64\n",
      " 25  items_share_category_15       10984 non-null  float64\n",
      " 26  items_share_category_16       10984 non-null  float64\n",
      " 27  items_share_category_17       10984 non-null  float64\n",
      " 28  items_share_category_18       10984 non-null  float64\n",
      " 29  items_share_category_19       10984 non-null  float64\n",
      " 30  items_share_category_20       10984 non-null  float64\n",
      " 31  items_share_category_21       10984 non-null  float64\n",
      " 32  items_share_category_22       10984 non-null  float64\n",
      " 33  items_share_category_23       10984 non-null  float64\n",
      " 34  items_share_category_24       10984 non-null  float64\n",
      " 35  items_share_category_25       10984 non-null  float64\n",
      " 36  items_share_category_26       10984 non-null  float64\n",
      " 37  items_share_category_27       10984 non-null  float64\n",
      " 38  is_churn                      10984 non-null  int64  \n",
      "dtypes: float64(32), int64(7)\n",
      "memory usage: 3.3 MB\n"
     ]
    }
   ],
   "source": [
    "train.info()"
   ]
  },
  {
   "cell_type": "code",
   "execution_count": 7,
   "id": "f04444a0",
   "metadata": {},
   "outputs": [],
   "source": [
    "churn = train[train['is_churn']==1]"
   ]
  },
  {
   "cell_type": "code",
   "execution_count": 10,
   "id": "793dfb14",
   "metadata": {},
   "outputs": [],
   "source": [
    "non_churn = train[train['is_churn']==0]"
   ]
  },
  {
   "cell_type": "code",
   "execution_count": 9,
   "id": "0a884d5c",
   "metadata": {
    "scrolled": true
   },
   "outputs": [
    {
     "data": {
      "text/html": [
       "<div>\n",
       "<style scoped>\n",
       "    .dataframe tbody tr th:only-of-type {\n",
       "        vertical-align: middle;\n",
       "    }\n",
       "\n",
       "    .dataframe tbody tr th {\n",
       "        vertical-align: top;\n",
       "    }\n",
       "\n",
       "    .dataframe thead th {\n",
       "        text-align: right;\n",
       "    }\n",
       "</style>\n",
       "<table border=\"1\" class=\"dataframe\">\n",
       "  <thead>\n",
       "    <tr style=\"text-align: right;\">\n",
       "      <th></th>\n",
       "      <th>client_id</th>\n",
       "      <th>average_check</th>\n",
       "      <th>number_orders</th>\n",
       "      <th>average_score</th>\n",
       "      <th>items_per_order</th>\n",
       "      <th>is_friend</th>\n",
       "      <th>last_check</th>\n",
       "      <th>last_score</th>\n",
       "      <th>last_scored_after_order_days</th>\n",
       "      <th>last_late_by_minutes</th>\n",
       "      <th>...</th>\n",
       "      <th>items_share_category_19</th>\n",
       "      <th>items_share_category_20</th>\n",
       "      <th>items_share_category_21</th>\n",
       "      <th>items_share_category_22</th>\n",
       "      <th>items_share_category_23</th>\n",
       "      <th>items_share_category_24</th>\n",
       "      <th>items_share_category_25</th>\n",
       "      <th>items_share_category_26</th>\n",
       "      <th>items_share_category_27</th>\n",
       "      <th>is_churn</th>\n",
       "    </tr>\n",
       "  </thead>\n",
       "  <tbody>\n",
       "    <tr>\n",
       "      <th>count</th>\n",
       "      <td>2479.000000</td>\n",
       "      <td>2479.000000</td>\n",
       "      <td>2479.000000</td>\n",
       "      <td>1998.000000</td>\n",
       "      <td>2479.000000</td>\n",
       "      <td>2479.000000</td>\n",
       "      <td>2476.000000</td>\n",
       "      <td>758.000000</td>\n",
       "      <td>758.000000</td>\n",
       "      <td>2479.000000</td>\n",
       "      <td>...</td>\n",
       "      <td>2479.000000</td>\n",
       "      <td>2479.000000</td>\n",
       "      <td>2479.000000</td>\n",
       "      <td>2479.000000</td>\n",
       "      <td>2479.000000</td>\n",
       "      <td>2479.000000</td>\n",
       "      <td>2479.000000</td>\n",
       "      <td>2479.000000</td>\n",
       "      <td>2479.000000</td>\n",
       "      <td>2479.0</td>\n",
       "    </tr>\n",
       "    <tr>\n",
       "      <th>mean</th>\n",
       "      <td>7936.622428</td>\n",
       "      <td>54360.427592</td>\n",
       "      <td>10.419524</td>\n",
       "      <td>9.287502</td>\n",
       "      <td>14.970551</td>\n",
       "      <td>0.067366</td>\n",
       "      <td>15508.959261</td>\n",
       "      <td>9.416887</td>\n",
       "      <td>5.402375</td>\n",
       "      <td>1.778943</td>\n",
       "      <td>...</td>\n",
       "      <td>0.000097</td>\n",
       "      <td>0.000004</td>\n",
       "      <td>0.001049</td>\n",
       "      <td>0.001307</td>\n",
       "      <td>0.008911</td>\n",
       "      <td>0.229375</td>\n",
       "      <td>0.058286</td>\n",
       "      <td>0.002888</td>\n",
       "      <td>0.033312</td>\n",
       "      <td>1.0</td>\n",
       "    </tr>\n",
       "    <tr>\n",
       "      <th>std</th>\n",
       "      <td>3853.415581</td>\n",
       "      <td>30682.200517</td>\n",
       "      <td>6.728857</td>\n",
       "      <td>1.156656</td>\n",
       "      <td>7.366960</td>\n",
       "      <td>0.250705</td>\n",
       "      <td>12016.632725</td>\n",
       "      <td>1.313613</td>\n",
       "      <td>17.017059</td>\n",
       "      <td>9.523194</td>\n",
       "      <td>...</td>\n",
       "      <td>0.001267</td>\n",
       "      <td>0.000201</td>\n",
       "      <td>0.003794</td>\n",
       "      <td>0.006782</td>\n",
       "      <td>0.018467</td>\n",
       "      <td>0.147387</td>\n",
       "      <td>0.071786</td>\n",
       "      <td>0.009160</td>\n",
       "      <td>0.034325</td>\n",
       "      <td>0.0</td>\n",
       "    </tr>\n",
       "    <tr>\n",
       "      <th>min</th>\n",
       "      <td>2.000000</td>\n",
       "      <td>0.000000</td>\n",
       "      <td>6.000000</td>\n",
       "      <td>2.000000</td>\n",
       "      <td>1.000000</td>\n",
       "      <td>0.000000</td>\n",
       "      <td>0.000000</td>\n",
       "      <td>2.000000</td>\n",
       "      <td>0.000000</td>\n",
       "      <td>0.000000</td>\n",
       "      <td>...</td>\n",
       "      <td>0.000000</td>\n",
       "      <td>0.000000</td>\n",
       "      <td>0.000000</td>\n",
       "      <td>0.000000</td>\n",
       "      <td>0.000000</td>\n",
       "      <td>0.000000</td>\n",
       "      <td>0.000000</td>\n",
       "      <td>0.000000</td>\n",
       "      <td>0.000000</td>\n",
       "      <td>1.0</td>\n",
       "    </tr>\n",
       "    <tr>\n",
       "      <th>25%</th>\n",
       "      <td>4924.500000</td>\n",
       "      <td>34200.000000</td>\n",
       "      <td>7.000000</td>\n",
       "      <td>8.888900</td>\n",
       "      <td>9.949900</td>\n",
       "      <td>0.000000</td>\n",
       "      <td>7949.500000</td>\n",
       "      <td>10.000000</td>\n",
       "      <td>0.000000</td>\n",
       "      <td>0.000000</td>\n",
       "      <td>...</td>\n",
       "      <td>0.000000</td>\n",
       "      <td>0.000000</td>\n",
       "      <td>0.000000</td>\n",
       "      <td>0.000000</td>\n",
       "      <td>0.000000</td>\n",
       "      <td>0.120000</td>\n",
       "      <td>0.010000</td>\n",
       "      <td>0.000000</td>\n",
       "      <td>0.010000</td>\n",
       "      <td>1.0</td>\n",
       "    </tr>\n",
       "    <tr>\n",
       "      <th>50%</th>\n",
       "      <td>8551.000000</td>\n",
       "      <td>46700.000000</td>\n",
       "      <td>8.000000</td>\n",
       "      <td>10.000000</td>\n",
       "      <td>14.000000</td>\n",
       "      <td>0.000000</td>\n",
       "      <td>11732.000000</td>\n",
       "      <td>10.000000</td>\n",
       "      <td>1.000000</td>\n",
       "      <td>0.000000</td>\n",
       "      <td>...</td>\n",
       "      <td>0.000000</td>\n",
       "      <td>0.000000</td>\n",
       "      <td>0.000000</td>\n",
       "      <td>0.000000</td>\n",
       "      <td>0.000000</td>\n",
       "      <td>0.220000</td>\n",
       "      <td>0.040000</td>\n",
       "      <td>0.000000</td>\n",
       "      <td>0.030000</td>\n",
       "      <td>1.0</td>\n",
       "    </tr>\n",
       "    <tr>\n",
       "      <th>75%</th>\n",
       "      <td>11312.000000</td>\n",
       "      <td>65600.000000</td>\n",
       "      <td>11.000000</td>\n",
       "      <td>10.000000</td>\n",
       "      <td>19.020000</td>\n",
       "      <td>0.000000</td>\n",
       "      <td>19259.250000</td>\n",
       "      <td>10.000000</td>\n",
       "      <td>5.000000</td>\n",
       "      <td>0.000000</td>\n",
       "      <td>...</td>\n",
       "      <td>0.000000</td>\n",
       "      <td>0.000000</td>\n",
       "      <td>0.000000</td>\n",
       "      <td>0.000000</td>\n",
       "      <td>0.010000</td>\n",
       "      <td>0.320000</td>\n",
       "      <td>0.080000</td>\n",
       "      <td>0.000000</td>\n",
       "      <td>0.050000</td>\n",
       "      <td>1.0</td>\n",
       "    </tr>\n",
       "    <tr>\n",
       "      <th>max</th>\n",
       "      <td>13729.000000</td>\n",
       "      <td>384400.000000</td>\n",
       "      <td>75.000000</td>\n",
       "      <td>10.000000</td>\n",
       "      <td>52.500000</td>\n",
       "      <td>1.000000</td>\n",
       "      <td>159888.000000</td>\n",
       "      <td>10.000000</td>\n",
       "      <td>206.000000</td>\n",
       "      <td>171.000000</td>\n",
       "      <td>...</td>\n",
       "      <td>0.030000</td>\n",
       "      <td>0.010000</td>\n",
       "      <td>0.040000</td>\n",
       "      <td>0.150000</td>\n",
       "      <td>0.470000</td>\n",
       "      <td>0.960000</td>\n",
       "      <td>0.930000</td>\n",
       "      <td>0.160000</td>\n",
       "      <td>0.400000</td>\n",
       "      <td>1.0</td>\n",
       "    </tr>\n",
       "  </tbody>\n",
       "</table>\n",
       "<p>8 rows × 39 columns</p>\n",
       "</div>"
      ],
      "text/plain": [
       "          client_id  average_check  number_orders  average_score  \\\n",
       "count   2479.000000    2479.000000    2479.000000    1998.000000   \n",
       "mean    7936.622428   54360.427592      10.419524       9.287502   \n",
       "std     3853.415581   30682.200517       6.728857       1.156656   \n",
       "min        2.000000       0.000000       6.000000       2.000000   \n",
       "25%     4924.500000   34200.000000       7.000000       8.888900   \n",
       "50%     8551.000000   46700.000000       8.000000      10.000000   \n",
       "75%    11312.000000   65600.000000      11.000000      10.000000   \n",
       "max    13729.000000  384400.000000      75.000000      10.000000   \n",
       "\n",
       "       items_per_order    is_friend     last_check  last_score  \\\n",
       "count      2479.000000  2479.000000    2476.000000  758.000000   \n",
       "mean         14.970551     0.067366   15508.959261    9.416887   \n",
       "std           7.366960     0.250705   12016.632725    1.313613   \n",
       "min           1.000000     0.000000       0.000000    2.000000   \n",
       "25%           9.949900     0.000000    7949.500000   10.000000   \n",
       "50%          14.000000     0.000000   11732.000000   10.000000   \n",
       "75%          19.020000     0.000000   19259.250000   10.000000   \n",
       "max          52.500000     1.000000  159888.000000   10.000000   \n",
       "\n",
       "       last_scored_after_order_days  last_late_by_minutes  ...  \\\n",
       "count                    758.000000           2479.000000  ...   \n",
       "mean                       5.402375              1.778943  ...   \n",
       "std                       17.017059              9.523194  ...   \n",
       "min                        0.000000              0.000000  ...   \n",
       "25%                        0.000000              0.000000  ...   \n",
       "50%                        1.000000              0.000000  ...   \n",
       "75%                        5.000000              0.000000  ...   \n",
       "max                      206.000000            171.000000  ...   \n",
       "\n",
       "       items_share_category_19  items_share_category_20  \\\n",
       "count              2479.000000              2479.000000   \n",
       "mean                  0.000097                 0.000004   \n",
       "std                   0.001267                 0.000201   \n",
       "min                   0.000000                 0.000000   \n",
       "25%                   0.000000                 0.000000   \n",
       "50%                   0.000000                 0.000000   \n",
       "75%                   0.000000                 0.000000   \n",
       "max                   0.030000                 0.010000   \n",
       "\n",
       "       items_share_category_21  items_share_category_22  \\\n",
       "count              2479.000000              2479.000000   \n",
       "mean                  0.001049                 0.001307   \n",
       "std                   0.003794                 0.006782   \n",
       "min                   0.000000                 0.000000   \n",
       "25%                   0.000000                 0.000000   \n",
       "50%                   0.000000                 0.000000   \n",
       "75%                   0.000000                 0.000000   \n",
       "max                   0.040000                 0.150000   \n",
       "\n",
       "       items_share_category_23  items_share_category_24  \\\n",
       "count              2479.000000              2479.000000   \n",
       "mean                  0.008911                 0.229375   \n",
       "std                   0.018467                 0.147387   \n",
       "min                   0.000000                 0.000000   \n",
       "25%                   0.000000                 0.120000   \n",
       "50%                   0.000000                 0.220000   \n",
       "75%                   0.010000                 0.320000   \n",
       "max                   0.470000                 0.960000   \n",
       "\n",
       "       items_share_category_25  items_share_category_26  \\\n",
       "count              2479.000000              2479.000000   \n",
       "mean                  0.058286                 0.002888   \n",
       "std                   0.071786                 0.009160   \n",
       "min                   0.000000                 0.000000   \n",
       "25%                   0.010000                 0.000000   \n",
       "50%                   0.040000                 0.000000   \n",
       "75%                   0.080000                 0.000000   \n",
       "max                   0.930000                 0.160000   \n",
       "\n",
       "       items_share_category_27  is_churn  \n",
       "count              2479.000000    2479.0  \n",
       "mean                  0.033312       1.0  \n",
       "std                   0.034325       0.0  \n",
       "min                   0.000000       1.0  \n",
       "25%                   0.010000       1.0  \n",
       "50%                   0.030000       1.0  \n",
       "75%                   0.050000       1.0  \n",
       "max                   0.400000       1.0  \n",
       "\n",
       "[8 rows x 39 columns]"
      ]
     },
     "execution_count": 9,
     "metadata": {},
     "output_type": "execute_result"
    }
   ],
   "source": [
    "churn.describe()"
   ]
  },
  {
   "cell_type": "code",
   "execution_count": 11,
   "id": "0b660381",
   "metadata": {},
   "outputs": [
    {
     "data": {
      "text/html": [
       "<div>\n",
       "<style scoped>\n",
       "    .dataframe tbody tr th:only-of-type {\n",
       "        vertical-align: middle;\n",
       "    }\n",
       "\n",
       "    .dataframe tbody tr th {\n",
       "        vertical-align: top;\n",
       "    }\n",
       "\n",
       "    .dataframe thead th {\n",
       "        text-align: right;\n",
       "    }\n",
       "</style>\n",
       "<table border=\"1\" class=\"dataframe\">\n",
       "  <thead>\n",
       "    <tr style=\"text-align: right;\">\n",
       "      <th></th>\n",
       "      <th>client_id</th>\n",
       "      <th>average_check</th>\n",
       "      <th>number_orders</th>\n",
       "      <th>average_score</th>\n",
       "      <th>items_per_order</th>\n",
       "      <th>is_friend</th>\n",
       "      <th>last_check</th>\n",
       "      <th>last_score</th>\n",
       "      <th>last_scored_after_order_days</th>\n",
       "      <th>last_late_by_minutes</th>\n",
       "      <th>...</th>\n",
       "      <th>items_share_category_19</th>\n",
       "      <th>items_share_category_20</th>\n",
       "      <th>items_share_category_21</th>\n",
       "      <th>items_share_category_22</th>\n",
       "      <th>items_share_category_23</th>\n",
       "      <th>items_share_category_24</th>\n",
       "      <th>items_share_category_25</th>\n",
       "      <th>items_share_category_26</th>\n",
       "      <th>items_share_category_27</th>\n",
       "      <th>is_churn</th>\n",
       "    </tr>\n",
       "  </thead>\n",
       "  <tbody>\n",
       "    <tr>\n",
       "      <th>count</th>\n",
       "      <td>8505.000000</td>\n",
       "      <td>8505.000000</td>\n",
       "      <td>8505.00000</td>\n",
       "      <td>7189.000000</td>\n",
       "      <td>8505.000000</td>\n",
       "      <td>8505.000000</td>\n",
       "      <td>8503.000000</td>\n",
       "      <td>3030.000000</td>\n",
       "      <td>3030.000000</td>\n",
       "      <td>8505.000000</td>\n",
       "      <td>...</td>\n",
       "      <td>8505.000000</td>\n",
       "      <td>8505.000000</td>\n",
       "      <td>8505.000000</td>\n",
       "      <td>8505.000000</td>\n",
       "      <td>8505.000000</td>\n",
       "      <td>8505.000000</td>\n",
       "      <td>8505.000000</td>\n",
       "      <td>8505.000000</td>\n",
       "      <td>8505.000000</td>\n",
       "      <td>8505.0</td>\n",
       "    </tr>\n",
       "    <tr>\n",
       "      <th>mean</th>\n",
       "      <td>6552.166020</td>\n",
       "      <td>61977.965902</td>\n",
       "      <td>18.81117</td>\n",
       "      <td>9.307473</td>\n",
       "      <td>15.969685</td>\n",
       "      <td>0.171429</td>\n",
       "      <td>18466.914798</td>\n",
       "      <td>9.493069</td>\n",
       "      <td>4.462046</td>\n",
       "      <td>1.892887</td>\n",
       "      <td>...</td>\n",
       "      <td>0.000056</td>\n",
       "      <td>0.000005</td>\n",
       "      <td>0.000717</td>\n",
       "      <td>0.001338</td>\n",
       "      <td>0.008790</td>\n",
       "      <td>0.234288</td>\n",
       "      <td>0.054963</td>\n",
       "      <td>0.005086</td>\n",
       "      <td>0.034252</td>\n",
       "      <td>0.0</td>\n",
       "    </tr>\n",
       "    <tr>\n",
       "      <th>std</th>\n",
       "      <td>3943.231193</td>\n",
       "      <td>33350.764938</td>\n",
       "      <td>38.11362</td>\n",
       "      <td>1.203266</td>\n",
       "      <td>7.192676</td>\n",
       "      <td>0.376905</td>\n",
       "      <td>14017.513456</td>\n",
       "      <td>1.295719</td>\n",
       "      <td>10.070749</td>\n",
       "      <td>10.585846</td>\n",
       "      <td>...</td>\n",
       "      <td>0.000810</td>\n",
       "      <td>0.000266</td>\n",
       "      <td>0.003467</td>\n",
       "      <td>0.006493</td>\n",
       "      <td>0.014841</td>\n",
       "      <td>0.136342</td>\n",
       "      <td>0.061386</td>\n",
       "      <td>0.018137</td>\n",
       "      <td>0.030750</td>\n",
       "      <td>0.0</td>\n",
       "    </tr>\n",
       "    <tr>\n",
       "      <th>min</th>\n",
       "      <td>1.000000</td>\n",
       "      <td>500.000000</td>\n",
       "      <td>6.00000</td>\n",
       "      <td>2.000000</td>\n",
       "      <td>1.000000</td>\n",
       "      <td>0.000000</td>\n",
       "      <td>0.000000</td>\n",
       "      <td>2.000000</td>\n",
       "      <td>0.000000</td>\n",
       "      <td>0.000000</td>\n",
       "      <td>...</td>\n",
       "      <td>0.000000</td>\n",
       "      <td>0.000000</td>\n",
       "      <td>0.000000</td>\n",
       "      <td>0.000000</td>\n",
       "      <td>0.000000</td>\n",
       "      <td>0.000000</td>\n",
       "      <td>0.000000</td>\n",
       "      <td>0.000000</td>\n",
       "      <td>0.000000</td>\n",
       "      <td>0.0</td>\n",
       "    </tr>\n",
       "    <tr>\n",
       "      <th>25%</th>\n",
       "      <td>3152.000000</td>\n",
       "      <td>39400.000000</td>\n",
       "      <td>9.00000</td>\n",
       "      <td>9.000000</td>\n",
       "      <td>11.083300</td>\n",
       "      <td>0.000000</td>\n",
       "      <td>9154.500000</td>\n",
       "      <td>10.000000</td>\n",
       "      <td>0.000000</td>\n",
       "      <td>0.000000</td>\n",
       "      <td>...</td>\n",
       "      <td>0.000000</td>\n",
       "      <td>0.000000</td>\n",
       "      <td>0.000000</td>\n",
       "      <td>0.000000</td>\n",
       "      <td>0.000000</td>\n",
       "      <td>0.140000</td>\n",
       "      <td>0.020000</td>\n",
       "      <td>0.000000</td>\n",
       "      <td>0.010000</td>\n",
       "      <td>0.0</td>\n",
       "    </tr>\n",
       "    <tr>\n",
       "      <th>50%</th>\n",
       "      <td>6395.000000</td>\n",
       "      <td>54000.000000</td>\n",
       "      <td>14.00000</td>\n",
       "      <td>9.909100</td>\n",
       "      <td>14.888900</td>\n",
       "      <td>0.000000</td>\n",
       "      <td>14417.000000</td>\n",
       "      <td>10.000000</td>\n",
       "      <td>2.000000</td>\n",
       "      <td>0.000000</td>\n",
       "      <td>...</td>\n",
       "      <td>0.000000</td>\n",
       "      <td>0.000000</td>\n",
       "      <td>0.000000</td>\n",
       "      <td>0.000000</td>\n",
       "      <td>0.000000</td>\n",
       "      <td>0.230000</td>\n",
       "      <td>0.040000</td>\n",
       "      <td>0.000000</td>\n",
       "      <td>0.030000</td>\n",
       "      <td>0.0</td>\n",
       "    </tr>\n",
       "    <tr>\n",
       "      <th>75%</th>\n",
       "      <td>9852.000000</td>\n",
       "      <td>75100.000000</td>\n",
       "      <td>23.00000</td>\n",
       "      <td>10.000000</td>\n",
       "      <td>19.933300</td>\n",
       "      <td>0.000000</td>\n",
       "      <td>23395.000000</td>\n",
       "      <td>10.000000</td>\n",
       "      <td>6.000000</td>\n",
       "      <td>0.000000</td>\n",
       "      <td>...</td>\n",
       "      <td>0.000000</td>\n",
       "      <td>0.000000</td>\n",
       "      <td>0.000000</td>\n",
       "      <td>0.000000</td>\n",
       "      <td>0.010000</td>\n",
       "      <td>0.320000</td>\n",
       "      <td>0.080000</td>\n",
       "      <td>0.010000</td>\n",
       "      <td>0.050000</td>\n",
       "      <td>0.0</td>\n",
       "    </tr>\n",
       "    <tr>\n",
       "      <th>max</th>\n",
       "      <td>13728.000000</td>\n",
       "      <td>419000.000000</td>\n",
       "      <td>3251.00000</td>\n",
       "      <td>10.000000</td>\n",
       "      <td>65.857100</td>\n",
       "      <td>1.000000</td>\n",
       "      <td>202298.000000</td>\n",
       "      <td>10.000000</td>\n",
       "      <td>153.000000</td>\n",
       "      <td>478.000000</td>\n",
       "      <td>...</td>\n",
       "      <td>0.020000</td>\n",
       "      <td>0.020000</td>\n",
       "      <td>0.100000</td>\n",
       "      <td>0.190000</td>\n",
       "      <td>0.320000</td>\n",
       "      <td>1.000000</td>\n",
       "      <td>0.950000</td>\n",
       "      <td>0.750000</td>\n",
       "      <td>0.330000</td>\n",
       "      <td>0.0</td>\n",
       "    </tr>\n",
       "  </tbody>\n",
       "</table>\n",
       "<p>8 rows × 39 columns</p>\n",
       "</div>"
      ],
      "text/plain": [
       "          client_id  average_check  number_orders  average_score  \\\n",
       "count   8505.000000    8505.000000     8505.00000    7189.000000   \n",
       "mean    6552.166020   61977.965902       18.81117       9.307473   \n",
       "std     3943.231193   33350.764938       38.11362       1.203266   \n",
       "min        1.000000     500.000000        6.00000       2.000000   \n",
       "25%     3152.000000   39400.000000        9.00000       9.000000   \n",
       "50%     6395.000000   54000.000000       14.00000       9.909100   \n",
       "75%     9852.000000   75100.000000       23.00000      10.000000   \n",
       "max    13728.000000  419000.000000     3251.00000      10.000000   \n",
       "\n",
       "       items_per_order    is_friend     last_check   last_score  \\\n",
       "count      8505.000000  8505.000000    8503.000000  3030.000000   \n",
       "mean         15.969685     0.171429   18466.914798     9.493069   \n",
       "std           7.192676     0.376905   14017.513456     1.295719   \n",
       "min           1.000000     0.000000       0.000000     2.000000   \n",
       "25%          11.083300     0.000000    9154.500000    10.000000   \n",
       "50%          14.888900     0.000000   14417.000000    10.000000   \n",
       "75%          19.933300     0.000000   23395.000000    10.000000   \n",
       "max          65.857100     1.000000  202298.000000    10.000000   \n",
       "\n",
       "       last_scored_after_order_days  last_late_by_minutes  ...  \\\n",
       "count                   3030.000000           8505.000000  ...   \n",
       "mean                       4.462046              1.892887  ...   \n",
       "std                       10.070749             10.585846  ...   \n",
       "min                        0.000000              0.000000  ...   \n",
       "25%                        0.000000              0.000000  ...   \n",
       "50%                        2.000000              0.000000  ...   \n",
       "75%                        6.000000              0.000000  ...   \n",
       "max                      153.000000            478.000000  ...   \n",
       "\n",
       "       items_share_category_19  items_share_category_20  \\\n",
       "count              8505.000000              8505.000000   \n",
       "mean                  0.000056                 0.000005   \n",
       "std                   0.000810                 0.000266   \n",
       "min                   0.000000                 0.000000   \n",
       "25%                   0.000000                 0.000000   \n",
       "50%                   0.000000                 0.000000   \n",
       "75%                   0.000000                 0.000000   \n",
       "max                   0.020000                 0.020000   \n",
       "\n",
       "       items_share_category_21  items_share_category_22  \\\n",
       "count              8505.000000              8505.000000   \n",
       "mean                  0.000717                 0.001338   \n",
       "std                   0.003467                 0.006493   \n",
       "min                   0.000000                 0.000000   \n",
       "25%                   0.000000                 0.000000   \n",
       "50%                   0.000000                 0.000000   \n",
       "75%                   0.000000                 0.000000   \n",
       "max                   0.100000                 0.190000   \n",
       "\n",
       "       items_share_category_23  items_share_category_24  \\\n",
       "count              8505.000000              8505.000000   \n",
       "mean                  0.008790                 0.234288   \n",
       "std                   0.014841                 0.136342   \n",
       "min                   0.000000                 0.000000   \n",
       "25%                   0.000000                 0.140000   \n",
       "50%                   0.000000                 0.230000   \n",
       "75%                   0.010000                 0.320000   \n",
       "max                   0.320000                 1.000000   \n",
       "\n",
       "       items_share_category_25  items_share_category_26  \\\n",
       "count              8505.000000              8505.000000   \n",
       "mean                  0.054963                 0.005086   \n",
       "std                   0.061386                 0.018137   \n",
       "min                   0.000000                 0.000000   \n",
       "25%                   0.020000                 0.000000   \n",
       "50%                   0.040000                 0.000000   \n",
       "75%                   0.080000                 0.010000   \n",
       "max                   0.950000                 0.750000   \n",
       "\n",
       "       items_share_category_27  is_churn  \n",
       "count              8505.000000    8505.0  \n",
       "mean                  0.034252       0.0  \n",
       "std                   0.030750       0.0  \n",
       "min                   0.000000       0.0  \n",
       "25%                   0.010000       0.0  \n",
       "50%                   0.030000       0.0  \n",
       "75%                   0.050000       0.0  \n",
       "max                   0.330000       0.0  \n",
       "\n",
       "[8 rows x 39 columns]"
      ]
     },
     "execution_count": 11,
     "metadata": {},
     "output_type": "execute_result"
    }
   ],
   "source": [
    "non_churn.describe()"
   ]
  },
  {
   "cell_type": "code",
   "execution_count": 12,
   "id": "76b0ae3e",
   "metadata": {},
   "outputs": [
    {
     "data": {
      "text/plain": [
       "client_id                          0\n",
       "average_check                      0\n",
       "number_orders                      0\n",
       "average_score                    481\n",
       "items_per_order                    0\n",
       "is_friend                          0\n",
       "last_check                         3\n",
       "last_score                      1721\n",
       "last_scored_after_order_days    1721\n",
       "last_late_by_minutes               0\n",
       "is_last_order_fullfilled           0\n",
       "items_share_category_1             0\n",
       "items_share_category_2             0\n",
       "items_share_category_3             0\n",
       "items_share_category_4             0\n",
       "items_share_category_5             0\n",
       "items_share_category_6             0\n",
       "items_share_category_7             0\n",
       "items_share_category_8             0\n",
       "items_share_category_9             0\n",
       "items_share_category_10            0\n",
       "items_share_category_11            0\n",
       "items_share_category_12            0\n",
       "items_share_category_13            0\n",
       "items_share_category_14            0\n",
       "items_share_category_15            0\n",
       "items_share_category_16            0\n",
       "items_share_category_17            0\n",
       "items_share_category_18            0\n",
       "items_share_category_19            0\n",
       "items_share_category_20            0\n",
       "items_share_category_21            0\n",
       "items_share_category_22            0\n",
       "items_share_category_23            0\n",
       "items_share_category_24            0\n",
       "items_share_category_25            0\n",
       "items_share_category_26            0\n",
       "items_share_category_27            0\n",
       "is_churn                           0\n",
       "dtype: int64"
      ]
     },
     "execution_count": 12,
     "metadata": {},
     "output_type": "execute_result"
    }
   ],
   "source": [
    "churn.isnull().sum()"
   ]
  },
  {
   "cell_type": "code",
   "execution_count": 16,
   "id": "8c7ff7b5",
   "metadata": {},
   "outputs": [
    {
     "data": {
      "text/plain": [
       "{'whiskers': [<matplotlib.lines.Line2D at 0x1574922a310>,\n",
       "  <matplotlib.lines.Line2D at 0x1574922a670>],\n",
       " 'caps': [<matplotlib.lines.Line2D at 0x1574922a9d0>,\n",
       "  <matplotlib.lines.Line2D at 0x1574922ad30>],\n",
       " 'boxes': [<matplotlib.lines.Line2D at 0x157492256a0>],\n",
       " 'medians': [<matplotlib.lines.Line2D at 0x157492580d0>],\n",
       " 'fliers': [<matplotlib.lines.Line2D at 0x15749258430>],\n",
       " 'means': []}"
      ]
     },
     "execution_count": 16,
     "metadata": {},
     "output_type": "execute_result"
    },
    {
     "data": {
      "image/png": "[encoded data removed]",
      "text/plain": [
       "<Figure size 432x288 with 1 Axes>"
      ]
     },
     "metadata": {
      "needs_background": "light"
     },
     "output_type": "display_data"
    }
   ],
   "source": [
    "plt.boxplot(churn['number_orders'])"
   ]
  },
  {
   "cell_type": "code",
   "execution_count": 19,
   "id": "bf1d4bba",
   "metadata": {
    "scrolled": true
   },
   "outputs": [
    {
     "data": {
      "text/plain": [
       "{'whiskers': [<matplotlib.lines.Line2D at 0x15749368400>,\n",
       "  <matplotlib.lines.Line2D at 0x15749368760>],\n",
       " 'caps': [<matplotlib.lines.Line2D at 0x15749368ac0>,\n",
       "  <matplotlib.lines.Line2D at 0x15749368e20>],\n",
       " 'boxes': [<matplotlib.lines.Line2D at 0x157493680a0>],\n",
       " 'medians': [<matplotlib.lines.Line2D at 0x157493731c0>],\n",
       " 'fliers': [<matplotlib.lines.Line2D at 0x15749373520>],\n",
       " 'means': []}"
      ]
     },
     "execution_count": 19,
     "metadata": {},
     "output_type": "execute_result"
    },
    {
     "data": {
      "image/png": "[encoded data removed]",
      "text/plain": [
       "<Figure size 432x288 with 1 Axes>"
      ]
     },
     "metadata": {
      "needs_background": "light"
     },
     "output_type": "display_data"
    }
   ],
   "source": [
    "plt.boxplot(churn['items_per_order'])"
   ]
  },
  {
   "cell_type": "markdown",
   "id": "4dde547f",
   "metadata": {},
   "source": [
    "<h1>Linear Model</h1>"
   ]
  },
  {
   "cell_type": "code",
   "execution_count": 64,
   "id": "f852daa6",
   "metadata": {},
   "outputs": [],
   "source": [
    "X = train[['average_score', 'number_orders', 'items_per_order', 'average_check', 'last_check', 'last_score', 'last_scored_after_order_days', 'last_late_by_minutes']]\n",
    "y = train['is_churn']"
   ]
  },
  {
   "cell_type": "code",
   "execution_count": 66,
   "id": "acf14b00",
   "metadata": {},
   "outputs": [
    {
     "data": {
      "text/plain": [
       "average_score                   1797\n",
       "number_orders                      0\n",
       "items_per_order                    0\n",
       "average_check                      0\n",
       "last_check                         5\n",
       "last_score                      7196\n",
       "last_scored_after_order_days    7196\n",
       "last_late_by_minutes               0\n",
       "dtype: int64"
      ]
     },
     "execution_count": 66,
     "metadata": {},
     "output_type": "execute_result"
    }
   ],
   "source": [
    "X.isnull().sum()"
   ]
  },
  {
   "cell_type": "code",
   "execution_count": 69,
   "id": "6bd2c520",
   "metadata": {},
   "outputs": [],
   "source": [
    "X['average_score'].fillna(X['average_score'].mean(), inplace=True)\n",
    "X['last_score'].fillna(X['last_score'].mean(), inplace=True)\n",
    "X['last_scored_after_order_days'].fillna(X['last_scored_after_order_days'].mean(), inplace=True)\n",
    "X['last_check'].fillna(X['last_check'].mean(), inplace=True)"
   ]
  },
  {
   "cell_type": "code",
   "execution_count": 112,
   "id": "14226063",
   "metadata": {},
   "outputs": [],
   "source": [
    "X_train, X_test, y_train, y_test = train_test_split(X, y, test_size=0.4, random_state=101)"
   ]
  },
  {
   "cell_type": "code",
   "execution_count": null,
   "id": "15c6673a",
   "metadata": {},
   "outputs": [],
   "source": []
  },
  {
   "cell_type": "code",
   "execution_count": 72,
   "id": "4f180a32",
   "metadata": {},
   "outputs": [],
   "source": [
    "lm = LinearRegression()"
   ]
  },
  {
   "cell_type": "code",
   "execution_count": 73,
   "id": "203c6526",
   "metadata": {},
   "outputs": [
    {
     "data": {
      "text/plain": [
       "True"
      ]
     },
     "execution_count": 73,
     "metadata": {},
     "output_type": "execute_result"
    }
   ],
   "source": [
    "np.any(np.isnan(X))\n",
    "np.all(np.isfinite(X))"
   ]
  },
  {
   "cell_type": "code",
   "execution_count": 74,
   "id": "94e089d4",
   "metadata": {},
   "outputs": [
    {
     "data": {
      "text/plain": [
       "LinearRegression()"
      ]
     },
     "execution_count": 74,
     "metadata": {},
     "output_type": "execute_result"
    }
   ],
   "source": [
    "lm.fit(X_train,y_train)"
   ]
  },
  {
   "cell_type": "code",
   "execution_count": 75,
   "id": "d902f16e",
   "metadata": {},
   "outputs": [
    {
     "name": "stdout",
     "output_type": "stream",
     "text": [
      "Coefficients: \n",
      " [-8.19291142e-04 -8.28358635e-04  1.10946786e-03 -8.43824540e-07\n",
      " -1.76389375e-06 -2.86315533e-03  1.24245491e-03  6.39246061e-04]\n"
     ]
    }
   ],
   "source": [
    "# The coefficients\n",
    "print('Coefficients: \\n', lm.coef_)"
   ]
  },
  {
   "cell_type": "code",
   "execution_count": 76,
   "id": "7d74def1",
   "metadata": {},
   "outputs": [],
   "source": [
    "predictions = lm.predict( X_test)"
   ]
  },
  {
   "cell_type": "code",
   "execution_count": 77,
   "id": "10e5fbf0",
   "metadata": {},
   "outputs": [
    {
     "data": {
      "text/plain": [
       "Text(0, 0.5, 'Predicted Y')"
      ]
     },
     "execution_count": 77,
     "metadata": {},
     "output_type": "execute_result"
    },
    {
     "data": {
      "image/png": "[encoded data removed]",
      "text/plain": [
       "<Figure size 432x288 with 1 Axes>"
      ]
     },
     "metadata": {
      "needs_background": "light"
     },
     "output_type": "display_data"
    }
   ],
   "source": [
    "plt.scatter(y_test,predictions)\n",
    "plt.xlabel('Y Test')\n",
    "plt.ylabel('Predicted Y')"
   ]
  },
  {
   "cell_type": "code",
   "execution_count": 78,
   "id": "926ec38c",
   "metadata": {},
   "outputs": [
    {
     "name": "stdout",
     "output_type": "stream",
     "text": [
      "MAE: 0.34333624604966606\n",
      "MSE: 0.1701230612850397\n",
      "RMSE: 0.4124597692927635\n"
     ]
    }
   ],
   "source": [
    "from sklearn import metrics\n",
    "\n",
    "print('MAE:', metrics.mean_absolute_error(y_test, predictions))\n",
    "print('MSE:', metrics.mean_squared_error(y_test, predictions))\n",
    "print('RMSE:', np.sqrt(metrics.mean_squared_error(y_test, predictions)))"
   ]
  },
  {
   "cell_type": "code",
   "execution_count": 79,
   "id": "447d7594",
   "metadata": {},
   "outputs": [
    {
     "name": "stderr",
     "output_type": "stream",
     "text": [
      "C:\\Users\\bekzb\\anaconda3\\lib\\site-packages\\seaborn\\distributions.py:2557: FutureWarning: `distplot` is a deprecated function and will be removed in a future version. Please adapt your code to use either `displot` (a figure-level function with similar flexibility) or `histplot` (an axes-level function for histograms).\n",
      "  warnings.warn(msg, FutureWarning)\n"
     ]
    },
    {
     "data": {
      "image/png": "[encoded data removed]",
      "text/plain": [
       "<Figure size 432x288 with 1 Axes>"
      ]
     },
     "metadata": {
      "needs_background": "light"
     },
     "output_type": "display_data"
    }
   ],
   "source": [
    "sns.distplot((y_test-predictions),bins=50);"
   ]
  },
  {
   "cell_type": "code",
   "execution_count": 80,
   "id": "8a55befc",
   "metadata": {},
   "outputs": [
    {
     "data": {
      "text/html": [
       "<div>\n",
       "<style scoped>\n",
       "    .dataframe tbody tr th:only-of-type {\n",
       "        vertical-align: middle;\n",
       "    }\n",
       "\n",
       "    .dataframe tbody tr th {\n",
       "        vertical-align: top;\n",
       "    }\n",
       "\n",
       "    .dataframe thead th {\n",
       "        text-align: right;\n",
       "    }\n",
       "</style>\n",
       "<table border=\"1\" class=\"dataframe\">\n",
       "  <thead>\n",
       "    <tr style=\"text-align: right;\">\n",
       "      <th></th>\n",
       "      <th>Coeffecient</th>\n",
       "    </tr>\n",
       "  </thead>\n",
       "  <tbody>\n",
       "    <tr>\n",
       "      <th>average_score</th>\n",
       "      <td>-8.192911e-04</td>\n",
       "    </tr>\n",
       "    <tr>\n",
       "      <th>number_orders</th>\n",
       "      <td>-8.283586e-04</td>\n",
       "    </tr>\n",
       "    <tr>\n",
       "      <th>items_per_order</th>\n",
       "      <td>1.109468e-03</td>\n",
       "    </tr>\n",
       "    <tr>\n",
       "      <th>average_check</th>\n",
       "      <td>-8.438245e-07</td>\n",
       "    </tr>\n",
       "    <tr>\n",
       "      <th>last_check</th>\n",
       "      <td>-1.763894e-06</td>\n",
       "    </tr>\n",
       "    <tr>\n",
       "      <th>last_score</th>\n",
       "      <td>-2.863155e-03</td>\n",
       "    </tr>\n",
       "    <tr>\n",
       "      <th>last_scored_after_order_days</th>\n",
       "      <td>1.242455e-03</td>\n",
       "    </tr>\n",
       "    <tr>\n",
       "      <th>last_late_by_minutes</th>\n",
       "      <td>6.392461e-04</td>\n",
       "    </tr>\n",
       "  </tbody>\n",
       "</table>\n",
       "</div>"
      ],
      "text/plain": [
       "                               Coeffecient\n",
       "average_score                -8.192911e-04\n",
       "number_orders                -8.283586e-04\n",
       "items_per_order               1.109468e-03\n",
       "average_check                -8.438245e-07\n",
       "last_check                   -1.763894e-06\n",
       "last_score                   -2.863155e-03\n",
       "last_scored_after_order_days  1.242455e-03\n",
       "last_late_by_minutes          6.392461e-04"
      ]
     },
     "execution_count": 80,
     "metadata": {},
     "output_type": "execute_result"
    }
   ],
   "source": [
    "coeffecients = pd.DataFrame(lm.coef_,X.columns)\n",
    "coeffecients.columns = ['Coeffecient']\n",
    "coeffecients"
   ]
  },
  {
   "cell_type": "markdown",
   "id": "f93253f1",
   "metadata": {},
   "source": [
    "<h1> Decision Tree </h1>"
   ]
  },
  {
   "cell_type": "code",
   "execution_count": 81,
   "id": "b5a8e5c8",
   "metadata": {},
   "outputs": [],
   "source": [
    "from sklearn.tree import DecisionTreeClassifier "
   ]
  },
  {
   "cell_type": "code",
   "execution_count": 82,
   "id": "428900fd",
   "metadata": {},
   "outputs": [],
   "source": [
    "dtree = DecisionTreeClassifier()"
   ]
  },
  {
   "cell_type": "code",
   "execution_count": 83,
   "id": "b59f21ad",
   "metadata": {},
   "outputs": [
    {
     "data": {
      "text/plain": [
       "DecisionTreeClassifier()"
      ]
     },
     "execution_count": 83,
     "metadata": {},
     "output_type": "execute_result"
    }
   ],
   "source": [
    "dtree.fit(X_train, y_train)"
   ]
  },
  {
   "cell_type": "code",
   "execution_count": 84,
   "id": "3f39c762",
   "metadata": {},
   "outputs": [],
   "source": [
    "predictions_dtree = dtree.predict(X_test)"
   ]
  },
  {
   "cell_type": "code",
   "execution_count": 85,
   "id": "2018d11c",
   "metadata": {},
   "outputs": [],
   "source": [
    "from sklearn.metrics import classification_report,confusion_matrix"
   ]
  },
  {
   "cell_type": "code",
   "execution_count": 86,
   "id": "f5c4e108",
   "metadata": {},
   "outputs": [
    {
     "name": "stdout",
     "output_type": "stream",
     "text": [
      "              precision    recall  f1-score   support\n",
      "\n",
      "           0       0.80      0.79      0.79      3406\n",
      "           1       0.30      0.31      0.30       988\n",
      "\n",
      "    accuracy                           0.68      4394\n",
      "   macro avg       0.55      0.55      0.55      4394\n",
      "weighted avg       0.69      0.68      0.68      4394\n",
      "\n"
     ]
    }
   ],
   "source": [
    "print(classification_report(y_test,predictions_dtree))"
   ]
  },
  {
   "cell_type": "code",
   "execution_count": 87,
   "id": "75d8481b",
   "metadata": {},
   "outputs": [
    {
     "name": "stdout",
     "output_type": "stream",
     "text": [
      "[[2689  717]\n",
      " [ 682  306]]\n"
     ]
    }
   ],
   "source": [
    "print(confusion_matrix(y_test,predictions_dtree))"
   ]
  },
  {
   "cell_type": "markdown",
   "id": "b52b4679",
   "metadata": {},
   "source": [
    "<h1>Random Forest</h1>"
   ]
  },
  {
   "cell_type": "code",
   "execution_count": 88,
   "id": "8f473fcd",
   "metadata": {},
   "outputs": [
    {
     "data": {
      "text/plain": [
       "RandomForestClassifier()"
      ]
     },
     "execution_count": 88,
     "metadata": {},
     "output_type": "execute_result"
    }
   ],
   "source": [
    "from sklearn.ensemble import RandomForestClassifier\n",
    "rfc = RandomForestClassifier(n_estimators=100)\n",
    "rfc.fit(X_train, y_train)"
   ]
  },
  {
   "cell_type": "code",
   "execution_count": 89,
   "id": "2213a73e",
   "metadata": {},
   "outputs": [],
   "source": [
    "rfc_pred = rfc.predict(X_test)"
   ]
  },
  {
   "cell_type": "code",
   "execution_count": 90,
   "id": "6e235ce7",
   "metadata": {},
   "outputs": [
    {
     "name": "stdout",
     "output_type": "stream",
     "text": [
      "[[3233  173]\n",
      " [ 875  113]]\n"
     ]
    }
   ],
   "source": [
    "print(confusion_matrix(y_test,rfc_pred))"
   ]
  },
  {
   "cell_type": "code",
   "execution_count": 91,
   "id": "ac91bec3",
   "metadata": {},
   "outputs": [
    {
     "name": "stdout",
     "output_type": "stream",
     "text": [
      "              precision    recall  f1-score   support\n",
      "\n",
      "           0       0.79      0.95      0.86      3406\n",
      "           1       0.40      0.11      0.18       988\n",
      "\n",
      "    accuracy                           0.76      4394\n",
      "   macro avg       0.59      0.53      0.52      4394\n",
      "weighted avg       0.70      0.76      0.71      4394\n",
      "\n"
     ]
    }
   ],
   "source": [
    "print(classification_report(y_test,rfc_pred))"
   ]
  },
  {
   "cell_type": "code",
   "execution_count": 92,
   "id": "ba49c8b7",
   "metadata": {},
   "outputs": [],
   "source": [
    "test_data = test\n",
    "test_data['average_score'].fillna(test_data['average_score'].mean(), inplace=True)"
   ]
  },
  {
   "cell_type": "code",
   "execution_count": 94,
   "id": "e2b5fda5",
   "metadata": {},
   "outputs": [],
   "source": [
    "test_data['last_score'].fillna(test_data['average_score'], inplace=True)\n",
    "test_data['last_scored_after_order_days'].fillna(test_data['last_scored_after_order_days'].mean(), inplace=True)\n",
    "test_data['number_orders'] = test_data['number_orders'].fillna(test_data['number_orders'].mean(),)\n",
    "test_data['last_check'] = test_data['last_check'].fillna(test_data['average_check'],)"
   ]
  },
  {
   "cell_type": "code",
   "execution_count": 95,
   "id": "4f03b39a",
   "metadata": {},
   "outputs": [],
   "source": [
    "y_pred = dtree.predict(test[['average_score', 'number_orders', 'items_per_order', 'average_check',\n",
    "       'last_check', 'last_score', 'last_scored_after_order_days',\n",
    "       'last_late_by_minutes']])"
   ]
  },
  {
   "cell_type": "code",
   "execution_count": 96,
   "id": "73922b51",
   "metadata": {},
   "outputs": [],
   "source": [
    "test_data.insert(38, \"is_churn\", y_pred, True)\n",
    "\n",
    "test_data[['client_id', 'is_churn']].to_csv('res.csv', index=False)"
   ]
  },
  {
   "cell_type": "markdown",
   "id": "f6761769",
   "metadata": {},
   "source": [
    "<h1>Linear Model Test</h1>"
   ]
  },
  {
   "cell_type": "code",
   "execution_count": 109,
   "id": "7f78b232",
   "metadata": {},
   "outputs": [],
   "source": [
    "y_pred_1 = lm.predict(test[['average_score', 'number_orders', 'items_per_order', 'average_check',\n",
    "       'last_check', 'last_score', 'last_scored_after_order_days',\n",
    "       'last_late_by_minutes']])"
   ]
  },
  {
   "cell_type": "code",
   "execution_count": 98,
   "id": "b52ffc75",
   "metadata": {},
   "outputs": [],
   "source": [
    "test_data.insert(38, \"is_churn\", y_pred_1, True)\n",
    "\n",
    "test_data[['client_id', 'is_churn']].to_csv('res_1.csv', index=False)"
   ]
  },
  {
   "cell_type": "markdown",
   "id": "457e9c15",
   "metadata": {},
   "source": [
    "<h1>Logistic Regression</h1>"
   ]
  },
  {
   "cell_type": "code",
   "execution_count": 99,
   "id": "c0ea86e9",
   "metadata": {},
   "outputs": [],
   "source": [
    "from sklearn.linear_model import LogisticRegression"
   ]
  },
  {
   "cell_type": "code",
   "execution_count": 101,
   "id": "4f9df61c",
   "metadata": {},
   "outputs": [],
   "source": [
    "logmodel = LogisticRegression()"
   ]
  },
  {
   "cell_type": "code",
   "execution_count": 102,
   "id": "905a906d",
   "metadata": {},
   "outputs": [
    {
     "data": {
      "text/plain": [
       "LogisticRegression()"
      ]
     },
     "execution_count": 102,
     "metadata": {},
     "output_type": "execute_result"
    }
   ],
   "source": [
    "logmodel.fit(X_train, y_train)"
   ]
  },
  {
   "cell_type": "code",
   "execution_count": 103,
   "id": "eeff41f2",
   "metadata": {},
   "outputs": [],
   "source": [
    "log_pred = logmodel.predict(X_test)"
   ]
  },
  {
   "cell_type": "code",
   "execution_count": 106,
   "id": "8a340234",
   "metadata": {},
   "outputs": [
    {
     "name": "stdout",
     "output_type": "stream",
     "text": [
      "              precision    recall  f1-score   support\n",
      "\n",
      "           0       0.78      1.00      0.87      3406\n",
      "           1       0.00      0.00      0.00       988\n",
      "\n",
      "    accuracy                           0.78      4394\n",
      "   macro avg       0.39      0.50      0.44      4394\n",
      "weighted avg       0.60      0.78      0.68      4394\n",
      "\n"
     ]
    },
    {
     "name": "stderr",
     "output_type": "stream",
     "text": [
      "C:\\Users\\bekzb\\anaconda3\\lib\\site-packages\\sklearn\\metrics\\_classification.py:1245: UndefinedMetricWarning: Precision and F-score are ill-defined and being set to 0.0 in labels with no predicted samples. Use `zero_division` parameter to control this behavior.\n",
      "  _warn_prf(average, modifier, msg_start, len(result))\n",
      "C:\\Users\\bekzb\\anaconda3\\lib\\site-packages\\sklearn\\metrics\\_classification.py:1245: UndefinedMetricWarning: Precision and F-score are ill-defined and being set to 0.0 in labels with no predicted samples. Use `zero_division` parameter to control this behavior.\n",
      "  _warn_prf(average, modifier, msg_start, len(result))\n",
      "C:\\Users\\bekzb\\anaconda3\\lib\\site-packages\\sklearn\\metrics\\_classification.py:1245: UndefinedMetricWarning: Precision and F-score are ill-defined and being set to 0.0 in labels with no predicted samples. Use `zero_division` parameter to control this behavior.\n",
      "  _warn_prf(average, modifier, msg_start, len(result))\n"
     ]
    }
   ],
   "source": [
    "print(classification_report(y_test,log_pred))"
   ]
  },
  {
   "cell_type": "code",
   "execution_count": 108,
   "id": "925ef8a9",
   "metadata": {},
   "outputs": [],
   "source": [
    "y_pred_2 = logmodel.predict(test[['average_score', 'number_orders', 'items_per_order', 'average_check',\n",
    "       'last_check', 'last_score', 'last_scored_after_order_days',\n",
    "       'last_late_by_minutes']])"
   ]
  },
  {
   "cell_type": "code",
   "execution_count": 110,
   "id": "20bf7c27",
   "metadata": {},
   "outputs": [],
   "source": [
    "test_data.insert(38, \"is_churn\", y_pred_2, True)\n",
    "\n",
    "test_data[['client_id', 'is_churn']].to_csv('res_2.csv', index=False)"
   ]
  }
 ],
 "metadata": {
  "kernelspec": {
   "display_name": "Python 3",
   "language": "python",
   "name": "python3"
  },
  "language_info": {
   "codemirror_mode": {
    "name": "ipython",
    "version": 3
   },
   "file_extension": ".py",
   "mimetype": "text/x-python",
   "name": "python",
   "nbconvert_exporter": "python",
   "pygments_lexer": "ipython3",
   "version": "3.8.8"
  }
 },
 "nbformat": 4,
 "nbformat_minor": 5
}
